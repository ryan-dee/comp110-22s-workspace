{
 "cells": [
  {
   "cell_type": "markdown",
   "metadata": {},
   "source": [
    "# Analysis for Continuous Improvement\n",
    "\n",
    "Author Name: Ryan Dee\n",
    "\n",
    "9-digit PID: 730464883\n",
    "\n",
    "Continuous Improvement embraces a belief there is _always room to make things better_. It is a mindset and process we value and practice in this course. In this assignment, you are able to practice continuous improvement and contribute to the design ideas of the course.\n",
    "\n",
    "## Brainstorming Ideas\n",
    "\n",
    "Reflect on your personal experiences and observations in COMP110 and **brainstorm modifications to the course that _create value_ beyond its current design**. When brainstorming, try not to be critical of the ideas you come up with regarding scale, stakeholders impacted, or for any other reasons. In the markdown cell below, brainstorm 3 to 5 ideas you think would create value for you.\n",
    "\n",
    "Each brainstormed idea should state a. the suggested change or addition, b. what the expected value created, and c. which specific stakeholders would benefit.  If helpful, expand on the following template \"The course should (state idea here) because it will (state value created here) for (insert stakeholders here).\"\n",
    "\n",
    "Example A: \"The course should use only examples from psychology experiments because it will be more relevant for students who are psychology majors.\"\n",
    "\n",
    "Example B: \"The course should not have post-lesson questions because they are not useful for most students in the class.\""
   ]
  },
  {
   "cell_type": "markdown",
   "metadata": {},
   "source": [
    "### Part 1. Creative Ideation\n",
    "\n",
    "1. Office Hours should be expanded as they are the best way for students to interact with the course.\n",
    "2. Only computer science majors should be able to take this class because most students are already computer science majors\n",
    "3. This class should have less quizzes because students find them to not be as effective as lessons\n",
    "4. Lessons should be only in class because students would be more likely to attend and retain information\n",
    "5. There should be an alternative class to comp 110 which moves faster since most students have prior experience "
   ]
  },
  {
   "cell_type": "markdown",
   "metadata": {},
   "source": [
    "## Connecting with Available Data\n",
    "\n",
    "The data you have available for this analysis is limited to the anonymized course survey you and your peers filled out a few weeks ago. The data is found in the `survey.csv` file in this exercise directory. Each row represents an individual survey response. Each column has a description which can be found on the project write-up here: <https://22s.comp110.com/exercises/ex08.html>\n",
    "\n",
    "Review the list of available data and identify which one of your ideas _does not_, or is _least likely to_, have relevant data to support the analysis of your idea to create value. In the box below, identify which of your ideas lacks data and suggest how we might be able to collect this data in the future. One aspect of _continuous improvement_ is trying to avoid \"tunnel vision\" where possible improvements are not considered because there is no data available to analyze it. Identifying new data sources can unlock improvements!"
   ]
  },
  {
   "cell_type": "markdown",
   "metadata": {},
   "source": [
    "### Part 2. Identifying Missing Data\n",
    "\n",
    "1. Idea without sufficient data to analyze: Office hours should be expanded because they are the best way for students to interact with the course\n",
    "\n",
    "2. Suggestion for how to collect data to support this idea in the future: Ask how students interact with teachers and TAs the most, to get information from those who know the most."
   ]
  },
  {
   "cell_type": "code",
   "execution_count": null,
   "metadata": {},
   "outputs": [],
   "source": []
  },
  {
   "cell_type": "markdown",
   "metadata": {},
   "source": [
    "## Choosing an Idea to Analyze\n",
    "\n",
    "Consider those of your ideas which _do_ seem likely to have relevant data to analyze. If none of your ideas do, spend a few minutes and brainstorm another idea or two with the added connection of data available on hand and add those ideas to your brainstormed ideas list.\n",
    "\n",
    "Select the one idea which you believe is _most valuable_ to analyze relative to the others and has data to support the analysis of. In the markdown cell for Part 3 below, identify the idea you are exploring and articulate why you believe it is most valuable (e.g. widest impact, biggest opportunity for improvement, simplest change for significant improvement, and so on)."
   ]
  },
  {
   "cell_type": "markdown",
   "metadata": {},
   "source": [
    "### Part 3. Choosing Your Analysis\n",
    "\n",
    "1. Idea to analyze with available data: Lessons should be only in class because students would be more likely to attend and retain information\n",
    "\n",
    "2. This idea is more valuable than the others brainstormed because: While it is a serious difficult change, it would have the most significant improvement over the length of the course in ensuring students are able to ask questions as opposed to videos."
   ]
  },
  {
   "cell_type": "markdown",
   "metadata": {},
   "source": [
    "## Your Analysis\n",
    "\n",
    "Before you begin analysis, a reminder that we do not expect the data to support everyone's ideas and you can complete this exercise for full credit even if the data does not clearly support your suggestion or even completely refutes it. What we are looking for is a logical attempt to explore the data using the techniques you have learned up until now in a way that _either_ supports, refutes, or does not have a clear result and then to reflect on your findings after the analysis.\n",
    "\n",
    "Using the utility functions you created for the previous exercise, you will continue with your analysis in the following part. Before you begin, refer to the rubric on the technical expectations of this section in the exercise write-up.\n",
    "\n",
    "In this section, you are expected to interleave code and markdown cells such that for each step of your analysis you are starting with an English description of what you are planning to do next in a markdown cell, followed by a Python cell that performs that step of the analysis."
   ]
  },
  {
   "cell_type": "markdown",
   "metadata": {},
   "source": [
    "### Part 4. Analysis\n",
    "\n",
    "We begin by changing some settings in the notebook to automatically reload changes to imported files."
   ]
  },
  {
   "cell_type": "code",
   "execution_count": 101,
   "metadata": {},
   "outputs": [],
   "source": [
    "%reload_ext autoreload\n",
    "%autoreload 2"
   ]
  },
  {
   "cell_type": "markdown",
   "metadata": {},
   "source": [
    "We continue by importing the helper functions from `data_utils`."
   ]
  },
  {
   "cell_type": "code",
   "execution_count": 102,
   "metadata": {},
   "outputs": [],
   "source": [
    "# TODO: You complete the code blocks from here forward!\n",
    "from data_utils import read_csv_rows\n",
    "from data_utils import column_values\n",
    "from data_utils import columnar\n",
    "from data_utils import head\n",
    "from data_utils import select\n",
    "from data_utils import concat\n",
    "\n"
   ]
  },
  {
   "cell_type": "markdown",
   "metadata": {},
   "source": [
    "Next, ... (you take it from here and add additional code and markdown cells to read in the CSV file and process it as needed)"
   ]
  },
  {
   "cell_type": "code",
   "execution_count": 103,
   "metadata": {},
   "outputs": [],
   "source": [
    "SURVEY_DATA_CSV_FILE_PATH: str = \"../../data/survey.csv\""
   ]
  },
  {
   "cell_type": "markdown",
   "metadata": {},
   "source": [
    "To tell us whether students are learning from online videos we will look at the response from ls_effective, as well as no_hybrid. This will help us form a baseline for comparison between ls_effective and no_hybrid."
   ]
  },
  {
   "cell_type": "code",
   "execution_count": 104,
   "metadata": {},
   "outputs": [
    {
     "name": "stdout",
     "output_type": "stream",
     "text": [
      "{'ls_effective': ['7', '5', '5', '6', '6', '7', '7', '7', '7', '7', '7', '6', '4', '7', '6', '6', '7', '4', '6', '7', '5', '6', '7', '7', '1', '7', '7', '6', '7', '5', '6', '5', '6', '7', '7', '6', '6', '6', '7', '5', '7', '7', '7', '6', '5', '6', '6', '5', '3', '6', '7', '7', '6', '4', '7', '7', '6', '6', '6', '7', '7', '6', '7', '7', '7', '4', '6', '7', '7', '6', '7', '5', '5', '2', '7', '6', '6', '7', '7', '6', '7', '6', '5', '6', '7', '7', '6', '7', '6', '6', '2', '5', '4', '2', '5', '7', '7', '5', '7', '5', '7', '5', '3', '5', '7', '7', '7', '6', '6', '6', '7', '5', '6', '4', '7', '7', '7', '5', '7', '5', '7', '5', '6', '3', '7', '7', '3', '7', '6', '5', '7', '1', '6', '7', '7', '7', '7', '6', '7', '6', '3', '5', '6', '6', '7', '7', '4', '7', '5', '4', '5', '4', '7', '7', '5', '7', '5', '7', '6', '6', '6', '4', '5', '7', '6', '7', '6', '5', '7', '1', '3', '7', '5', '6', '5', '7', '7', '5', '3', '7', '7', '5', '7', '5', '7', '5', '7', '7', '7', '5', '2', '5', '6', '5', '7', '4', '6', '7', '7', '4', '5', '5', '5', '7', '5', '7', '3', '6', '7', '7', '5', '7', '7', '6', '7', '5', '7', '7', '5', '7', '7', '6', '1', '6', '7', '6', '7', '5', '7', '7', '7', '6', '7', '7', '7', '5', '7', '7', '7', '6', '4', '6', '6', '6', '6', '6', '5', '7', '5', '4', '7', '5', '7', '7', '2', '5', '7', '5', '7', '5', '7', '3', '7', '4', '7', '6', '5', '7', '7', '5', '6', '5', '7', '7', '5', '6', '6', '5', '6', '4', '7', '7', '6', '6', '6', '7', '7', '7', '4', '6', '6', '6', '7', '7', '7', '6', '7', '7', '6', '4', '7', '6', '7', '5', '6', '7', '6', '5', '5', '7', '7', '5', '7', '6', '4', '7', '7', '6', '4', '3', '3', '5', '7', '5', '6', '5', '6', '4', '7', '7', '7', '3', '7', '7', '6', '7', '6', '7', '7', '6', '7', '5', '6', '7', '5', '5', '6', '5', '6', '6', '7', '6', '7', '3', '6', '5', '7', '5', '5', '6', '4', '6', '3', '7', '4', '7', '7', '5', '7', '6', '6', '5', '5', '7', '4', '5', '6', '7', '6', '4', '7', '6', '5', '7', '4', '5', '7', '6', '6', '7', '7', '7', '7', '6', '5', '3', '7', '6', '7', '7', '7', '7', '7', '7', '3', '5', '7', '7', '7', '7', '7', '7', '5', '5', '7', '7', '7', '6', '6', '5', '5', '5', '6', '4', '3', '7', '5', '1', '6', '5', '7', '6', '4', '5', '7', '5', '7', '7', '6', '7', '6', '7', '7', '5', '4', '5', '6', '7', '7', '7', '7', '7', '4', '5', '6', '6', '6', '5', '4', '3', '6', '4', '7', '7', '7', '7', '5', '5', '5', '7', '6', '7', '3', '6', '7', '5', '7', '7', '7', '7', '6', '7', '7', '7', '5', '6', '7', '4', '7', '7', '6', '6', '5', '7', '4', '2', '7', '3', '7', '5', '7', '4', '6', '6', '7', '7', '5', '6', '5', '7', '7', '6', '6', '6', '7', '5', '6', '5', '4', '7', '7', '4', '3', '7', '7', '7', '5', '4', '7', '6', '1', '7', '7', '6', '3', '5', '7', '6', '6', '7', '5', '7', '6', '6', '3', '5', '5', '7', '7', '4', '6', '3', '6', '7', '6', '6', '4', '1', '7', '7', '5', '3', '5', '6', '3', '7', '7', '7', '7', '5', '5', '7', '6', '6', '7', '4', '7', '7', '5', '7', '6', '4', '4', '5', '7', '6', '5', '6', '4', '1', '7', '7', '5', '7', '7', '6', '7', '6', '7', '6', '4', '7', '5', '7', '6', '5', '6', '3', '6', '7', '6', '5', '7', '6', '4', '3', '6', '7', '6', '2']}\n",
      "{'no_hybrid': ['2', '2', '1', '3', '2', '1', '3', '1', '5', '1', '2', '1', '1', '3', '5', '1', '1', '1', '3', '1', '1', '1', '1', '2', '6', '1', '1', '2', '4', '2', '3', '5', '2', '1', '2', '4', '1', '1', '1', '1', '2', '1', '1', '3', '1', '5', '2', '4', '1', '2', '2', '1', '3', '1', '1', '2', '3', '1', '1', '2', '1', '1', '1', '1', '1', '4', '2', '1', '4', '2', '1', '3', '1', '2', '1', '1', '1', '1', '2', '1', '6', '1', '1', '1', '1', '1', '2', '1', '5', '2', '5', '1', '1', '3', '1', '3', '2', '1', '1', '2', '6', '2', '7', '2', '1', '1', '1', '1', '1', '2', '1', '1', '1', '5', '2', '3', '1', '1', '1', '1', '7', '4', '2', '3', '1', '2', '2', '4', '3', '1', '3', '7', '1', '1', '1', '2', '2', '1', '1', '2', '4', '1', '2', '2', '3', '1', '2', '1', '1', '3', '1', '4', '1', '1', '1', '1', '1', '2', '1', '1', '1', '4', '1', '2', '3', '5', '1', '2', '6', '1', '2', '2', '1', '1', '3', '1', '1', '3', '4', '1', '1', '1', '1', '3', '1', '5', '3', '1', '1', '3', '5', '2', '4', '2', '1', '2', '1', '7', '3', '3', '2', '2', '2', '1', '1', '1', '4', '2', '1', '1', '4', '1', '1', '1', '2', '4', '4', '6', '2', '1', '1', '1', '2', '1', '1', '7', '1', '1', '1', '1', '1', '1', '1', '1', '1', '1', '3', '1', '3', '3', '4', '2', '2', '1', '2', '1', '3', '1', '3', '3', '3', '1', '1', '7', '5', '1', '3', '1', '7', '2', '1', '4', '2', '1', '5', '1', '2', '1', '1', '3', '1', '2', '1', '1', '1', '3', '2', '1', '2', '6', '1', '1', '1', '2', '1', '4', '1', '2', '2', '1', '1', '2', '1', '1', '5', '4', '2', '1', '1', '4', '1', '6', '1', '4', '1', '1', '1', '1', '1', '1', '1', '6', '2', '2', '3', '2', '4', '1', '4', '1', '1', '1', '2', '1', '1', '1', '3', '1', '1', '1', '3', '2', '1', '1', '1', '5', '2', '1', '1', '3', '1', '1', '1', '2', '1', '1', '4', '1', '2', '3', '3', '2', '1', '1', '1', '4', '1', '4', '2', '1', '4', '3', '2', '5', '1', '2', '2', '2', '3', '1', '3', '2', '2', '1', '4', '1', '1', '1', '1', '5', '1', '1', '5', '3', '1', '2', '1', '6', '1', '2', '1', '1', '2', '4', '2', '1', '4', '5', '1', '2', '1', '1', '4', '4', '1', '3', '1', '1', '5', '4', '3', '7', '4', '3', '4', '1', '2', '4', '1', '2', '2', '4', '1', '4', '3', '1', '1', '1', '3', '4', '1', '2', '1', '3', '3', '6', '1', '3', '2', '1', '1', '1', '1', '1', '1', '3', '1', '2', '1', '2', '1', '1', '2', '1', '3', '1', '1', '4', '1', '2', '1', '4', '1', '4', '2', '1', '1', '1', '4', '1', '4', '1', '1', '6', '1', '4', '4', '1', '1', '1', '1', '4', '1', '1', '2', '4', '1', '3', '1', '2', '2', '1', '1', '2', '1', '1', '1', '1', '3', '1', '1', '4', '1', '2', '5', '5', '7', '1', '4', '7', '1', '1', '4', '2', '1', '1', '1', '1', '1', '1', '1', '2', '2', '1', '1', '3', '1', '4', '1', '1', '1', '1', '4', '1', '1', '1', '2', '1', '1', '2', '1', '2', '2', '1', '1', '1', '1', '1', '2', '2', '5', '2', '3', '4', '5', '1', '4', '1', '1', '1', '2', '7', '2', '1', '3', '4', '6', '1', '5', '1', '1', '1', '1', '1', '1', '1', '1', '1', '2', '2', '3', '2', '4', '4', '5', '2', '4', '3', '1', '1', '1', '1', '1', '5', '1', '3', '1', '2', '1', '5', '2', '1', '3', '1', '3', '4', '3', '4', '1', '1', '3', '1', '3', '2', '3', '1', '4', '1', '1', '7']}\n"
     ]
    }
   ],
   "source": [
    "DATA_DIRECTORY=\"../../data\"\n",
    "DATA_FILE_PATH=f\"{DATA_DIRECTORY}/survey.csv\"\n",
    "data_rows: list[dict[str, str]] = read_csv_rows(DATA_FILE_PATH)\n",
    "data_cols: dict[str, list[str]] = columnar(data_rows)\n",
    "int_ls_effective: list[int] = []\n",
    "i: int = 0\n",
    "# while i < len(ls_effective[columns]):\n",
    "    # int_ls_effective.append(int(ls_effective[columns][i]))\n",
    "    # i = i + 1\n",
    "\n",
    "# int_no_hybrid: list[int] = []\n",
    "# for value in \"no_hybrid\":\n",
    "    # int_no_hybrid.append(int(value))\n",
    "\n",
    "selected_data: dict[str, list[str]] = select(data_cols, ['ls_effective'])\n",
    "selected_data_no_hybrid: dict[str, list[str]] = select(data_cols, ['no_hybrid'])\n",
    "\n",
    "\n",
    "print(selected_data)\n",
    "print(selected_data_no_hybrid)"
   ]
  },
  {
   "cell_type": "markdown",
   "metadata": {},
   "source": [
    "Next we will convert the list of strings to a list of intergers"
   ]
  },
  {
   "cell_type": "code",
   "execution_count": 105,
   "metadata": {},
   "outputs": [
    {
     "name": "stdout",
     "output_type": "stream",
     "text": [
      "ls_effective\n",
      "[7, 5, 5, 6, 6, 7, 7, 7, 7, 7, 7, 6, 4, 7, 6, 6, 7, 4, 6, 7, 5, 6, 7, 7, 1, 7, 7, 6, 7, 5, 6, 5, 6, 7, 7, 6, 6, 6, 7, 5, 7, 7, 7, 6, 5, 6, 6, 5, 3, 6, 7, 7, 6, 4, 7, 7, 6, 6, 6, 7, 7, 6, 7, 7, 7, 4, 6, 7, 7, 6, 7, 5, 5, 2, 7, 6, 6, 7, 7, 6, 7, 6, 5, 6, 7, 7, 6, 7, 6, 6, 2, 5, 4, 2, 5, 7, 7, 5, 7, 5, 7, 5, 3, 5, 7, 7, 7, 6, 6, 6, 7, 5, 6, 4, 7, 7, 7, 5, 7, 5, 7, 5, 6, 3, 7, 7, 3, 7, 6, 5, 7, 1, 6, 7, 7, 7, 7, 6, 7, 6, 3, 5, 6, 6, 7, 7, 4, 7, 5, 4, 5, 4, 7, 7, 5, 7, 5, 7, 6, 6, 6, 4, 5, 7, 6, 7, 6, 5, 7, 1, 3, 7, 5, 6, 5, 7, 7, 5, 3, 7, 7, 5, 7, 5, 7, 5, 7, 7, 7, 5, 2, 5, 6, 5, 7, 4, 6, 7, 7, 4, 5, 5, 5, 7, 5, 7, 3, 6, 7, 7, 5, 7, 7, 6, 7, 5, 7, 7, 5, 7, 7, 6, 1, 6, 7, 6, 7, 5, 7, 7, 7, 6, 7, 7, 7, 5, 7, 7, 7, 6, 4, 6, 6, 6, 6, 6, 5, 7, 5, 4, 7, 5, 7, 7, 2, 5, 7, 5, 7, 5, 7, 3, 7, 4, 7, 6, 5, 7, 7, 5, 6, 5, 7, 7, 5, 6, 6, 5, 6, 4, 7, 7, 6, 6, 6, 7, 7, 7, 4, 6, 6, 6, 7, 7, 7, 6, 7, 7, 6, 4, 7, 6, 7, 5, 6, 7, 6, 5, 5, 7, 7, 5, 7, 6, 4, 7, 7, 6, 4, 3, 3, 5, 7, 5, 6, 5, 6, 4, 7, 7, 7, 3, 7, 7, 6, 7, 6, 7, 7, 6, 7, 5, 6, 7, 5, 5, 6, 5, 6, 6, 7, 6, 7, 3, 6, 5, 7, 5, 5, 6, 4, 6, 3, 7, 4, 7, 7, 5, 7, 6, 6, 5, 5, 7, 4, 5, 6, 7, 6, 4, 7, 6, 5, 7, 4, 5, 7, 6, 6, 7, 7, 7, 7, 6, 5, 3, 7, 6, 7, 7, 7, 7, 7, 7, 3, 5, 7, 7, 7, 7, 7, 7, 5, 5, 7, 7, 7, 6, 6, 5, 5, 5, 6, 4, 3, 7, 5, 1, 6, 5, 7, 6, 4, 5, 7, 5, 7, 7, 6, 7, 6, 7, 7, 5, 4, 5, 6, 7, 7, 7, 7, 7, 4, 5, 6, 6, 6, 5, 4, 3, 6, 4, 7, 7, 7, 7, 5, 5, 5, 7, 6, 7, 3, 6, 7, 5, 7, 7, 7, 7, 6, 7, 7, 7, 5, 6, 7, 4, 7, 7, 6, 6, 5, 7, 4, 2, 7, 3, 7, 5, 7, 4, 6, 6, 7, 7, 5, 6, 5, 7, 7, 6, 6, 6, 7, 5, 6, 5, 4, 7, 7, 4, 3, 7, 7, 7, 5, 4, 7, 6, 1, 7, 7, 6, 3, 5, 7, 6, 6, 7, 5, 7, 6, 6, 3, 5, 5, 7, 7, 4, 6, 3, 6, 7, 6, 6, 4, 1, 7, 7, 5, 3, 5, 6, 3, 7, 7, 7, 7, 5, 5, 7, 6, 6, 7, 4, 7, 7, 5, 7, 6, 4, 4, 5, 7, 6, 5, 6, 4, 1, 7, 7, 5, 7, 7, 6, 7, 6, 7, 6, 4, 7, 5, 7, 6, 5, 6, 3, 6, 7, 6, 5, 7, 6, 4, 3, 6, 7, 6, 2]\n",
      "no_hybrid\n",
      "[2, 2, 1, 3, 2, 1, 3, 1, 5, 1, 2, 1, 1, 3, 5, 1, 1, 1, 3, 1, 1, 1, 1, 2, 6, 1, 1, 2, 4, 2, 3, 5, 2, 1, 2, 4, 1, 1, 1, 1, 2, 1, 1, 3, 1, 5, 2, 4, 1, 2, 2, 1, 3, 1, 1, 2, 3, 1, 1, 2, 1, 1, 1, 1, 1, 4, 2, 1, 4, 2, 1, 3, 1, 2, 1, 1, 1, 1, 2, 1, 6, 1, 1, 1, 1, 1, 2, 1, 5, 2, 5, 1, 1, 3, 1, 3, 2, 1, 1, 2, 6, 2, 7, 2, 1, 1, 1, 1, 1, 2, 1, 1, 1, 5, 2, 3, 1, 1, 1, 1, 7, 4, 2, 3, 1, 2, 2, 4, 3, 1, 3, 7, 1, 1, 1, 2, 2, 1, 1, 2, 4, 1, 2, 2, 3, 1, 2, 1, 1, 3, 1, 4, 1, 1, 1, 1, 1, 2, 1, 1, 1, 4, 1, 2, 3, 5, 1, 2, 6, 1, 2, 2, 1, 1, 3, 1, 1, 3, 4, 1, 1, 1, 1, 3, 1, 5, 3, 1, 1, 3, 5, 2, 4, 2, 1, 2, 1, 7, 3, 3, 2, 2, 2, 1, 1, 1, 4, 2, 1, 1, 4, 1, 1, 1, 2, 4, 4, 6, 2, 1, 1, 1, 2, 1, 1, 7, 1, 1, 1, 1, 1, 1, 1, 1, 1, 1, 3, 1, 3, 3, 4, 2, 2, 1, 2, 1, 3, 1, 3, 3, 3, 1, 1, 7, 5, 1, 3, 1, 7, 2, 1, 4, 2, 1, 5, 1, 2, 1, 1, 3, 1, 2, 1, 1, 1, 3, 2, 1, 2, 6, 1, 1, 1, 2, 1, 4, 1, 2, 2, 1, 1, 2, 1, 1, 5, 4, 2, 1, 1, 4, 1, 6, 1, 4, 1, 1, 1, 1, 1, 1, 1, 6, 2, 2, 3, 2, 4, 1, 4, 1, 1, 1, 2, 1, 1, 1, 3, 1, 1, 1, 3, 2, 1, 1, 1, 5, 2, 1, 1, 3, 1, 1, 1, 2, 1, 1, 4, 1, 2, 3, 3, 2, 1, 1, 1, 4, 1, 4, 2, 1, 4, 3, 2, 5, 1, 2, 2, 2, 3, 1, 3, 2, 2, 1, 4, 1, 1, 1, 1, 5, 1, 1, 5, 3, 1, 2, 1, 6, 1, 2, 1, 1, 2, 4, 2, 1, 4, 5, 1, 2, 1, 1, 4, 4, 1, 3, 1, 1, 5, 4, 3, 7, 4, 3, 4, 1, 2, 4, 1, 2, 2, 4, 1, 4, 3, 1, 1, 1, 3, 4, 1, 2, 1, 3, 3, 6, 1, 3, 2, 1, 1, 1, 1, 1, 1, 3, 1, 2, 1, 2, 1, 1, 2, 1, 3, 1, 1, 4, 1, 2, 1, 4, 1, 4, 2, 1, 1, 1, 4, 1, 4, 1, 1, 6, 1, 4, 4, 1, 1, 1, 1, 4, 1, 1, 2, 4, 1, 3, 1, 2, 2, 1, 1, 2, 1, 1, 1, 1, 3, 1, 1, 4, 1, 2, 5, 5, 7, 1, 4, 7, 1, 1, 4, 2, 1, 1, 1, 1, 1, 1, 1, 2, 2, 1, 1, 3, 1, 4, 1, 1, 1, 1, 4, 1, 1, 1, 2, 1, 1, 2, 1, 2, 2, 1, 1, 1, 1, 1, 2, 2, 5, 2, 3, 4, 5, 1, 4, 1, 1, 1, 2, 7, 2, 1, 3, 4, 6, 1, 5, 1, 1, 1, 1, 1, 1, 1, 1, 1, 2, 2, 3, 2, 4, 4, 5, 2, 4, 3, 1, 1, 1, 1, 1, 5, 1, 3, 1, 2, 1, 5, 2, 1, 3, 1, 3, 4, 3, 4, 1, 1, 3, 1, 3, 2, 3, 1, 4, 1, 1, 7]\n"
     ]
    }
   ],
   "source": [
    "def convert(given: list[str]) -> list[int]:\n",
    "    i: int = 0\n",
    "    ret_list: list[int] = []\n",
    "    while i < len(given):\n",
    "        ret_list.append(int(given[i]))\n",
    "        i = i + 1\n",
    "    return ret_list\n",
    "for key in selected_data:\n",
    "    idx: int = 0\n",
    "    while idx < len(selected_data):\n",
    "        ls_effective_list: list[int] = convert(selected_data[key])\n",
    "        idx = idx + 1\n",
    "for key in selected_data_no_hybrid:\n",
    "    alt: int = 0\n",
    "    while alt < len(selected_data_no_hybrid):\n",
    "        no_hybrid_list: list[int] = convert(selected_data_no_hybrid[key])\n",
    "        alt = alt + 1\n",
    "  \n",
    "print('ls_effective')\n",
    "print(ls_effective_list)\n",
    "print('no_hybrid')\n",
    "print(no_hybrid_list)\n"
   ]
  },
  {
   "cell_type": "markdown",
   "metadata": {},
   "source": [
    "Now we have the two lists converted into numbers we can take the averages of the two, in this instance the average of the two will represent which people feel helps them the most."
   ]
  },
  {
   "cell_type": "code",
   "execution_count": 106,
   "metadata": {},
   "outputs": [
    {
     "name": "stdout",
     "output_type": "stream",
     "text": [
      "5.827419354838709\n",
      "2.108064516129032\n"
     ]
    }
   ],
   "source": [
    "def average(numbers: list[int]) -> float:\n",
    "    return sum(numbers) / len(numbers)\n",
    "\n",
    "print(average(ls_effective_list))\n",
    "print(average(no_hybrid_list))\n"
   ]
  },
  {
   "cell_type": "markdown",
   "metadata": {},
   "source": [
    "This shows the average response to whether lesson videos are effective in teaching the course, or people would rather attend in person.  \n",
    "If we wanted to only get the first sections responses however, and have a more personalized response to the first section, that I am in this is the code that would do that.\n",
    "I don't know exactly how many people are in my section so to do this we will look at the data from the first 310 people"
   ]
  },
  {
   "cell_type": "code",
   "execution_count": 107,
   "metadata": {},
   "outputs": [
    {
     "name": "stdout",
     "output_type": "stream",
     "text": [
      "5.827419354838709\n",
      "2.108064516129032\n"
     ]
    }
   ],
   "source": [
    "\n",
    "selected_data: dict[str, list[str]] = select(data_cols, ['ls_effective'])\n",
    "selected_data_no_hybrid: dict[str, list[str]] = select(data_cols, ['no_hybrid'])\n",
    "first_section_ls: dict[str, list[str]] = head(selected_data, 310)\n",
    "first_section_hybrid: dict[str, list[str]] = head(selected_data_no_hybrid, 310)\n",
    "\n",
    "\n",
    "for key in first_section_ls:\n",
    "    idx: int = 0\n",
    "    while idx < len(selected_data):\n",
    "        ls_effective_list_selected: list[int] = convert(first_section_ls[key])\n",
    "        idx = idx + 1\n",
    "for key in first_section_hybrid:\n",
    "    alt: int = 0\n",
    "    while alt < len(selected_data_no_hybrid):\n",
    "        no_hybrid_list_selected: list[int] = convert(first_section_hybrid[key])\n",
    "        alt = alt + 1\n",
    "# print('ls_effective_section 1')\n",
    "# print(first_section_ls)\n",
    "# print('no_hybrid section 1')\n",
    "# print(first_section_hybrid)\n",
    "\n",
    "def average(numbers: list[int]) -> float:\n",
    "    return sum(numbers) / len(numbers)\n",
    "\n",
    "print(average(ls_effective_list_selected))\n",
    "print(average(no_hybrid_list_selected))\n"
   ]
  },
  {
   "cell_type": "markdown",
   "metadata": {},
   "source": [
    "As seen there is almost no difference in the averages between the two averages, thus it would be best to stick with the current system."
   ]
  },
  {
   "cell_type": "markdown",
   "metadata": {},
   "source": [
    "## Conclusion\n",
    "\n",
    "In the following markdown cell, write a reflective conclusion given the analysis you performed and identify recommendations.\n",
    "\n",
    "If your analysis of the data supports your idea, state your recommendation for the change and summarize the data analysys results you found which support it. Additionally, describe any extensions or refinements to this idea which might be explored further. Finally, discuss the potential costs, trade-offs, or stakeholders who may be negatively impacted by this proposed change.\n",
    "\n",
    "If your analysis of the data is inconclusive, summarize why your data analysis results were inconclusive in the support of your idea. Additionally, describe what experimental idea implementation or additional data collection might help build more confidence in assessing your idea. Finally, discuss the potential costs, trade-offs, or stakeholders who may be negatively impacted by experimenting with your idea.\n",
    "\n",
    "Finally, if your analysis of the data does not support it, summarize your data analysis results and why it refutes your idea. Discuss the potential costs, trade-offs, or stakeholders who may be negatively impacted by this proposed change. If you disagree with the validity of the findings, describe why your idea still makes sense to implement and what alternative data would better support it. If you agree with the validity of the data analysis, describe what alternate ideas or extensions you would explore instead. "
   ]
  },
  {
   "cell_type": "markdown",
   "metadata": {},
   "source": [
    "### Part 5. Conclusion \n",
    "\n",
    "Overall my conclusions showed that people prefer the online lessons to a forced in person option.  \n",
    "\n",
    "This refutes my idea to do more in person classes as students would go and retain more information.\n",
    "We know this because the average for lessons was higher than the option to stop streaming, this means that on average for the whole class people feel they retain information more in videos than in lectures.\n",
    "In this instance the stakeholders are mostly students, who would be exceeding or not doing as well based on the mode of instruction.  I greew with the validity of the analysis, however i wish a question was more geared towards the actual question of lessons or in person class, this would just make the data easier to understand.  One could ask on a scale of 1 to 7 with 1 being in person versus 7 being online lessons, this would make it easier because you could just average one value instead of comparing two."
   ]
  }
 ],
 "metadata": {
  "interpreter": {
   "hash": "aee8b7b246df8f9039afb4144a1f6fd8d2ca17a180786b69acc140d282b71a49"
  },
  "kernelspec": {
   "display_name": "Python 3.10.2 64-bit",
   "language": "python",
   "name": "python3"
  },
  "language_info": {
   "codemirror_mode": {
    "name": "ipython",
    "version": 3
   },
   "file_extension": ".py",
   "mimetype": "text/x-python",
   "name": "python",
   "nbconvert_exporter": "python",
   "pygments_lexer": "ipython3",
   "version": "3.10.1"
  },
  "orig_nbformat": 4
 },
 "nbformat": 4,
 "nbformat_minor": 2
}
