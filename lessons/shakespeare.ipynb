{
 "cells": [
  {
   "cell_type": "markdown",
   "metadata": {},
   "source": [
    "# Processing Shakespeare\n",
    "\n",
    "Counting all the letters in shakespeares works\n",
    "\n",
    "First step is to read each line of the text file into a list of strings"
   ]
  },
  {
   "cell_type": "code",
   "execution_count": 4,
   "metadata": {},
   "outputs": [
    {
     "ename": "FileNotFoundError",
     "evalue": "[Errno 2] No such file or directory: '/.shakespeare.txt'",
     "output_type": "error",
     "traceback": [
      "\u001b[1;31m---------------------------------------------------------------------------\u001b[0m",
      "\u001b[1;31mFileNotFoundError\u001b[0m                         Traceback (most recent call last)",
      "\u001b[1;32mc:\\Users\\Ryan\\Desktop\\comp110-22s-workspace\\lessons\\shakespeare.ipynb Cell 2'\u001b[0m in \u001b[0;36m<module>\u001b[1;34m\u001b[0m\n\u001b[0;32m     <a href='vscode-notebook-cell:/c%3A/Users/Ryan/Desktop/comp110-22s-workspace/lessons/shakespeare.ipynb#ch0000003?line=9'>10</a>\u001b[0m         lines\u001b[39m.\u001b[39mappend(line)   \n\u001b[0;32m     <a href='vscode-notebook-cell:/c%3A/Users/Ryan/Desktop/comp110-22s-workspace/lessons/shakespeare.ipynb#ch0000003?line=10'>11</a>\u001b[0m     \u001b[39mreturn\u001b[39;00m lines\n\u001b[1;32m---> <a href='vscode-notebook-cell:/c%3A/Users/Ryan/Desktop/comp110-22s-workspace/lessons/shakespeare.ipynb#ch0000003?line=12'>13</a>\u001b[0m shakespeares_lines: \u001b[39mlist\u001b[39m[\u001b[39mstr\u001b[39m] \u001b[39m=\u001b[39m read_lines(\u001b[39m\"\u001b[39;49m\u001b[39m/.shakespeare.txt\u001b[39;49m\u001b[39m\"\u001b[39;49m)\n\u001b[0;32m     <a href='vscode-notebook-cell:/c%3A/Users/Ryan/Desktop/comp110-22s-workspace/lessons/shakespeare.ipynb#ch0000003?line=13'>14</a>\u001b[0m \u001b[39mprint\u001b[39m(shakespeares_lines)\n",
      "\u001b[1;32mc:\\Users\\Ryan\\Desktop\\comp110-22s-workspace\\lessons\\shakespeare.ipynb Cell 2'\u001b[0m in \u001b[0;36mread_lines\u001b[1;34m(filename)\u001b[0m\n\u001b[0;32m      <a href='vscode-notebook-cell:/c%3A/Users/Ryan/Desktop/comp110-22s-workspace/lessons/shakespeare.ipynb#ch0000003?line=3'>4</a>\u001b[0m \u001b[39m\"\"\"Read a text file into a list of strings for each line.\"\"\"\u001b[39;00m\n\u001b[0;32m      <a href='vscode-notebook-cell:/c%3A/Users/Ryan/Desktop/comp110-22s-workspace/lessons/shakespeare.ipynb#ch0000003?line=4'>5</a>\u001b[0m lines: \u001b[39mlist\u001b[39m[\u001b[39mstr\u001b[39m] \u001b[39m=\u001b[39m []\n\u001b[1;32m----> <a href='vscode-notebook-cell:/c%3A/Users/Ryan/Desktop/comp110-22s-workspace/lessons/shakespeare.ipynb#ch0000003?line=5'>6</a>\u001b[0m file_handle: TextIOWrapper \u001b[39m=\u001b[39m \u001b[39mopen\u001b[39;49m(filename, \u001b[39m\"\u001b[39;49m\u001b[39mr\u001b[39;49m\u001b[39m\"\u001b[39;49m)\n\u001b[0;32m      <a href='vscode-notebook-cell:/c%3A/Users/Ryan/Desktop/comp110-22s-workspace/lessons/shakespeare.ipynb#ch0000003?line=6'>7</a>\u001b[0m \u001b[39mfor\u001b[39;00m line \u001b[39min\u001b[39;00m file_handle:\n\u001b[0;32m      <a href='vscode-notebook-cell:/c%3A/Users/Ryan/Desktop/comp110-22s-workspace/lessons/shakespeare.ipynb#ch0000003?line=7'>8</a>\u001b[0m     line \u001b[39m=\u001b[39m line\u001b[39m.\u001b[39mstrip()\n",
      "\u001b[1;31mFileNotFoundError\u001b[0m: [Errno 2] No such file or directory: '/.shakespeare.txt'"
     ]
    }
   ],
   "source": [
    "from io import TextIOWrapper\n",
    "\n",
    "def read_lines(filename: str) -> list[str]:\n",
    "    \"\"\"Read a text file into a list of strings for each line.\"\"\"\n",
    "    lines: list[str] = []\n",
    "    file_handle: TextIOWrapper = open(filename, \"r\")\n",
    "    for line in file_handle:\n",
    "        line = line.strip()\n",
    "        line = line.lower()\n",
    "        lines.append(line)   \n",
    "    return lines\n",
    "\n",
    "shakespeares_lines: list[str] = read_lines(\"/.shakespeare.txt\")\n",
    "print(shakespeares_lines)\n"
   ]
  },
  {
   "cell_type": "code",
   "execution_count": 5,
   "metadata": {},
   "outputs": [
    {
     "name": "stdout",
     "output_type": "stream",
     "text": [
      "[]\n"
     ]
    }
   ],
   "source": [
    "# Example of \"Slice Notatoim\"\n",
    "\n",
    "print(shakespeares_lines[0:5])\n"
   ]
  },
  {
   "cell_type": "markdown",
   "metadata": {},
   "source": [
    "Next step of our analysis is to count alll of letters in shakespeares complete body of work"
   ]
  },
  {
   "cell_type": "code",
   "execution_count": 16,
   "metadata": {},
   "outputs": [
    {
     "name": "stdout",
     "output_type": "stream",
     "text": [
      "{}\n"
     ]
    }
   ],
   "source": [
    "# Write a function named T\n",
    "# Given a reference to a dictionary and a key\n",
    "def tally(count: dict[str, int], key: str) -> None:\n",
    "    \"\"\"Mutate counts by incrimenting value stored at key by 1\"\"\"\n",
    "    if key in count:\n",
    "        count[key] += 1\n",
    "    else:\n",
    "        count[key] = 1\n",
    "\n",
    "\n",
    "def count_letters(lines: list[str]) -> dict[str, int]:\n",
    "    \"\"\"Count the frequesnct of all letters in a list of strings.\"\"\"\n",
    "    counts: dict[str, int] = {}\n",
    "    for line in lines:\n",
    "        for character in line:\n",
    "            if character in counts:\n",
    "               for char in line:\n",
    "                    if char.isalpha():\n",
    "                        tally(counts, char)\n",
    "    return counts\n",
    "\n",
    "shakesepeare_counts: dict[str, int] = (count_letters(shakespeares_lines))\n",
    "print(shakesepeare_counts)\n",
    "\n",
    "        \n",
    "\n",
    "\n"
   ]
  },
  {
   "cell_type": "markdown",
   "metadata": {},
   "source": [
    "visualize with a bar chart this data baout character frequencies"
   ]
  },
  {
   "cell_type": "code",
   "execution_count": 12,
   "metadata": {},
   "outputs": [],
   "source": [
    "from matplotlib import pyplot\n",
    "\n",
    "pyplot.title(\"Frequencies of letters in shakespeare\")\n",
    "pyplot.xlabel(\"Letters\")\n",
    "pyplot.ylabel(\"Counts\")\n",
    "labels: list[str] = list(shakesepeare_counts.keys())\n",
    "values: list[int] = list(shakespeare_counts.values())\n"
   ]
  }
 ],
 "metadata": {
  "interpreter": {
   "hash": "98e49e2706393c23b19db0a25d5cf452f5af81b91cd76568b98cc09fa1b74c90"
  },
  "kernelspec": {
   "display_name": "Python 3.10.1 64-bit",
   "language": "python",
   "name": "python3"
  },
  "language_info": {
   "codemirror_mode": {
    "name": "ipython",
    "version": 3
   },
   "file_extension": ".py",
   "mimetype": "text/x-python",
   "name": "python",
   "nbconvert_exporter": "python",
   "pygments_lexer": "ipython3",
   "version": "3.10.1"
  },
  "orig_nbformat": 4
 },
 "nbformat": 4,
 "nbformat_minor": 2
}
