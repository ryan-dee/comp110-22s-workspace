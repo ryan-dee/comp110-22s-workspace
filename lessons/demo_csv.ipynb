{
 "cells": [
  {
   "cell_type": "markdown",
   "metadata": {},
   "source": [
    "# Working with CSV Data\n",
    "Comma separated value files are commonly used for sharing tables of data between systems.  \n",
    "Programs like microsof excel, goole sheets as well as other popular data base systems can produce csv files as exports and programs such as the one we will write today, have libraries for reading and procesing data in csv files."
   ]
  },
  {
   "cell_type": "code",
   "execution_count": 4,
   "metadata": {},
   "outputs": [
    {
     "name": "stdout",
     "output_type": "stream",
     "text": [
      "Autoreload of imported modules enabled. Be sure to save your modules.\n"
     ]
    }
   ],
   "source": [
    "%reload_ext autoreload\n",
    "%autoreload 2\n",
    "print(\"Autoreload of imported modules enabled. Be sure to save your modules.\")"
   ]
  },
  {
   "cell_type": "markdown",
   "metadata": {},
   "source": [
    "## Importing Utility functions\n",
    "Our helper functions will be located in lessons data/utils.py and we will import the funcitons in the code below"
   ]
  },
  {
   "cell_type": "code",
   "execution_count": 7,
   "metadata": {},
   "outputs": [
    {
     "ename": "PermissionError",
     "evalue": "[Errno 13] Permission denied: '../'",
     "output_type": "error",
     "traceback": [
      "\u001b[1;31m---------------------------------------------------------------------------\u001b[0m",
      "\u001b[1;31mPermissionError\u001b[0m                           Traceback (most recent call last)",
      "\u001b[1;32mc:\\Users\\Ryan\\Desktop\\comp110-22s-workspace\\lessons\\demo_csv.ipynb Cell 4'\u001b[0m in \u001b[0;36m<module>\u001b[1;34m\u001b[0m\n\u001b[0;32m      <a href='vscode-notebook-cell:/c%3A/Users/Ryan/Desktop/comp110-22s-workspace/lessons/demo_csv.ipynb#ch0000005?line=0'>1</a>\u001b[0m \u001b[39mfrom\u001b[39;00m \u001b[39mdata_utils\u001b[39;00m \u001b[39mimport\u001b[39;00m read_csv_rows\n\u001b[0;32m      <a href='vscode-notebook-cell:/c%3A/Users/Ryan/Desktop/comp110-22s-workspace/lessons/demo_csv.ipynb#ch0000005?line=2'>3</a>\u001b[0m data_file: \u001b[39mstr\u001b[39m \u001b[39m=\u001b[39m \u001b[39m\"\u001b[39m\u001b[39m../\u001b[39m\u001b[39m\"\u001b[39m\n\u001b[1;32m----> <a href='vscode-notebook-cell:/c%3A/Users/Ryan/Desktop/comp110-22s-workspace/lessons/demo_csv.ipynb#ch0000005?line=3'>4</a>\u001b[0m data_table: \u001b[39mlist\u001b[39m[\u001b[39mdict\u001b[39m[\u001b[39mstr\u001b[39m, \u001b[39mstr\u001b[39m]] \u001b[39m=\u001b[39m read_csv_rows(data_file)\n\u001b[0;32m      <a href='vscode-notebook-cell:/c%3A/Users/Ryan/Desktop/comp110-22s-workspace/lessons/demo_csv.ipynb#ch0000005?line=4'>5</a>\u001b[0m data_table\n",
      "File \u001b[1;32mc:\\Users\\Ryan\\Desktop\\comp110-22s-workspace\\lessons\\data_utils.py:8\u001b[0m, in \u001b[0;36mread_csv_rows\u001b[1;34m(filename)\u001b[0m\n\u001b[0;32m      <a href='file:///c%3A/Users/Ryan/Desktop/comp110-22s-workspace/lessons/data_utils.py?line=4'>5</a>\u001b[0m \u001b[39m\"\"\"\"read the rows of a csv into a 'table'.\"\"\"\u001b[39;00m\n\u001b[0;32m      <a href='file:///c%3A/Users/Ryan/Desktop/comp110-22s-workspace/lessons/data_utils.py?line=5'>6</a>\u001b[0m result: \u001b[39mlist\u001b[39m[\u001b[39mdict\u001b[39m[\u001b[39mstr\u001b[39m, \u001b[39mstr\u001b[39m]] \u001b[39m=\u001b[39m []\n\u001b[1;32m----> <a href='file:///c%3A/Users/Ryan/Desktop/comp110-22s-workspace/lessons/data_utils.py?line=7'>8</a>\u001b[0m file_handle \u001b[39m=\u001b[39m \u001b[39mopen\u001b[39;49m(filename, \u001b[39m\"\u001b[39;49m\u001b[39mr\u001b[39;49m\u001b[39m\"\u001b[39;49m, encoding\u001b[39m=\u001b[39;49m\u001b[39m\"\u001b[39;49m\u001b[39mutf8\u001b[39;49m\u001b[39m\"\u001b[39;49m)\n\u001b[0;32m     <a href='file:///c%3A/Users/Ryan/Desktop/comp110-22s-workspace/lessons/data_utils.py?line=9'>10</a>\u001b[0m file_handle\u001b[39m.\u001b[39mclose()\n\u001b[0;32m     <a href='file:///c%3A/Users/Ryan/Desktop/comp110-22s-workspace/lessons/data_utils.py?line=10'>11</a>\u001b[0m \u001b[39mreturn\u001b[39;00m result\n",
      "\u001b[1;31mPermissionError\u001b[0m: [Errno 13] Permission denied: '../'"
     ]
    }
   ],
   "source": [
    "from data_utils import read_csv_rows\n",
    "\n",
    "data_file: str = \"../\"\n",
    "data_table: list[dict[str, str]] = read_csv_rows(data_file)\n",
    "data_table"
   ]
  }
 ],
 "metadata": {
  "interpreter": {
   "hash": "98e49e2706393c23b19db0a25d5cf452f5af81b91cd76568b98cc09fa1b74c90"
  },
  "kernelspec": {
   "display_name": "Python 3.10.1 64-bit",
   "language": "python",
   "name": "python3"
  },
  "language_info": {
   "codemirror_mode": {
    "name": "ipython",
    "version": 3
   },
   "file_extension": ".py",
   "mimetype": "text/x-python",
   "name": "python",
   "nbconvert_exporter": "python",
   "pygments_lexer": "ipython3",
   "version": "3.10.1"
  },
  "orig_nbformat": 4
 },
 "nbformat": 4,
 "nbformat_minor": 2
}
