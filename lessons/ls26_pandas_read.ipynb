{
 "cells": [
  {
   "cell_type": "code",
   "execution_count": 2,
   "metadata": {},
   "outputs": [
    {
     "ename": "KeyError",
     "evalue": "\"None of [Float64Index([22.0, 38.0, 26.0, 35.0, 35.0,  nan, 54.0,  2.0, 27.0, 14.0,\\n              ...\\n              33.0, 22.0, 28.0, 25.0, 39.0, 27.0, 19.0,  nan, 26.0, 32.0],\\n             dtype='float64', length=891)] are in the [columns]\"",
     "output_type": "error",
     "traceback": [
      "\u001b[1;31m---------------------------------------------------------------------------\u001b[0m",
      "\u001b[1;31mKeyError\u001b[0m                                  Traceback (most recent call last)",
      "\u001b[1;32mc:\\Users\\Ryan\\Desktop\\comp110-22s-workspace\\lessons\\ls26_pandas_read.ipynb Cell 1'\u001b[0m in \u001b[0;36m<module>\u001b[1;34m\u001b[0m\n\u001b[0;32m      <a href='vscode-notebook-cell:/c%3A/Users/Ryan/Desktop/comp110-22s-workspace/lessons/ls26_pandas_read.ipynb#ch0000000?line=0'>1</a>\u001b[0m \u001b[39mimport\u001b[39;00m \u001b[39mpandas\u001b[39;00m \u001b[39mas\u001b[39;00m \u001b[39mpd\u001b[39;00m\n\u001b[0;32m      <a href='vscode-notebook-cell:/c%3A/Users/Ryan/Desktop/comp110-22s-workspace/lessons/ls26_pandas_read.ipynb#ch0000000?line=2'>3</a>\u001b[0m titanic \u001b[39m=\u001b[39m pd\u001b[39m.\u001b[39mread_csv(\u001b[39m\"\u001b[39m\u001b[39m../data/titanic.csv\u001b[39m\u001b[39m\"\u001b[39m)\n\u001b[1;32m----> <a href='vscode-notebook-cell:/c%3A/Users/Ryan/Desktop/comp110-22s-workspace/lessons/ls26_pandas_read.ipynb#ch0000000?line=4'>5</a>\u001b[0m titanic[titanic[\u001b[39m\"\u001b[39;49m\u001b[39mAge\u001b[39;49m\u001b[39m\"\u001b[39;49m]] \u001b[39m>\u001b[39m \u001b[39m\"\u001b[39m\u001b[39m35\u001b[39m\u001b[39m\"\u001b[39m\n",
      "File \u001b[1;32m~\\AppData\\Roaming\\Python\\Python310\\site-packages\\pandas\\core\\frame.py:3464\u001b[0m, in \u001b[0;36mDataFrame.__getitem__\u001b[1;34m(self, key)\u001b[0m\n\u001b[0;32m   <a href='file:///c%3A/Users/Ryan/AppData/Roaming/Python/Python310/site-packages/pandas/core/frame.py?line=3461'>3462</a>\u001b[0m     \u001b[39mif\u001b[39;00m is_iterator(key):\n\u001b[0;32m   <a href='file:///c%3A/Users/Ryan/AppData/Roaming/Python/Python310/site-packages/pandas/core/frame.py?line=3462'>3463</a>\u001b[0m         key \u001b[39m=\u001b[39m \u001b[39mlist\u001b[39m(key)\n\u001b[1;32m-> <a href='file:///c%3A/Users/Ryan/AppData/Roaming/Python/Python310/site-packages/pandas/core/frame.py?line=3463'>3464</a>\u001b[0m     indexer \u001b[39m=\u001b[39m \u001b[39mself\u001b[39;49m\u001b[39m.\u001b[39;49mloc\u001b[39m.\u001b[39;49m_get_listlike_indexer(key, axis\u001b[39m=\u001b[39;49m\u001b[39m1\u001b[39;49m)[\u001b[39m1\u001b[39m]\n\u001b[0;32m   <a href='file:///c%3A/Users/Ryan/AppData/Roaming/Python/Python310/site-packages/pandas/core/frame.py?line=3465'>3466</a>\u001b[0m \u001b[39m# take() does not accept boolean indexers\u001b[39;00m\n\u001b[0;32m   <a href='file:///c%3A/Users/Ryan/AppData/Roaming/Python/Python310/site-packages/pandas/core/frame.py?line=3466'>3467</a>\u001b[0m \u001b[39mif\u001b[39;00m \u001b[39mgetattr\u001b[39m(indexer, \u001b[39m\"\u001b[39m\u001b[39mdtype\u001b[39m\u001b[39m\"\u001b[39m, \u001b[39mNone\u001b[39;00m) \u001b[39m==\u001b[39m \u001b[39mbool\u001b[39m:\n",
      "File \u001b[1;32m~\\AppData\\Roaming\\Python\\Python310\\site-packages\\pandas\\core\\indexing.py:1314\u001b[0m, in \u001b[0;36m_LocIndexer._get_listlike_indexer\u001b[1;34m(self, key, axis)\u001b[0m\n\u001b[0;32m   <a href='file:///c%3A/Users/Ryan/AppData/Roaming/Python/Python310/site-packages/pandas/core/indexing.py?line=1310'>1311</a>\u001b[0m \u001b[39melse\u001b[39;00m:\n\u001b[0;32m   <a href='file:///c%3A/Users/Ryan/AppData/Roaming/Python/Python310/site-packages/pandas/core/indexing.py?line=1311'>1312</a>\u001b[0m     keyarr, indexer, new_indexer \u001b[39m=\u001b[39m ax\u001b[39m.\u001b[39m_reindex_non_unique(keyarr)\n\u001b[1;32m-> <a href='file:///c%3A/Users/Ryan/AppData/Roaming/Python/Python310/site-packages/pandas/core/indexing.py?line=1313'>1314</a>\u001b[0m \u001b[39mself\u001b[39;49m\u001b[39m.\u001b[39;49m_validate_read_indexer(keyarr, indexer, axis)\n\u001b[0;32m   <a href='file:///c%3A/Users/Ryan/AppData/Roaming/Python/Python310/site-packages/pandas/core/indexing.py?line=1315'>1316</a>\u001b[0m \u001b[39mif\u001b[39;00m needs_i8_conversion(ax\u001b[39m.\u001b[39mdtype) \u001b[39mor\u001b[39;00m \u001b[39misinstance\u001b[39m(\n\u001b[0;32m   <a href='file:///c%3A/Users/Ryan/AppData/Roaming/Python/Python310/site-packages/pandas/core/indexing.py?line=1316'>1317</a>\u001b[0m     ax, (IntervalIndex, CategoricalIndex)\n\u001b[0;32m   <a href='file:///c%3A/Users/Ryan/AppData/Roaming/Python/Python310/site-packages/pandas/core/indexing.py?line=1317'>1318</a>\u001b[0m ):\n\u001b[0;32m   <a href='file:///c%3A/Users/Ryan/AppData/Roaming/Python/Python310/site-packages/pandas/core/indexing.py?line=1318'>1319</a>\u001b[0m     \u001b[39m# For CategoricalIndex take instead of reindex to preserve dtype.\u001b[39;00m\n\u001b[0;32m   <a href='file:///c%3A/Users/Ryan/AppData/Roaming/Python/Python310/site-packages/pandas/core/indexing.py?line=1319'>1320</a>\u001b[0m     \u001b[39m#  For IntervalIndex this is to map integers to the Intervals they match to.\u001b[39;00m\n\u001b[0;32m   <a href='file:///c%3A/Users/Ryan/AppData/Roaming/Python/Python310/site-packages/pandas/core/indexing.py?line=1320'>1321</a>\u001b[0m     keyarr \u001b[39m=\u001b[39m ax\u001b[39m.\u001b[39mtake(indexer)\n",
      "File \u001b[1;32m~\\AppData\\Roaming\\Python\\Python310\\site-packages\\pandas\\core\\indexing.py:1374\u001b[0m, in \u001b[0;36m_LocIndexer._validate_read_indexer\u001b[1;34m(self, key, indexer, axis)\u001b[0m\n\u001b[0;32m   <a href='file:///c%3A/Users/Ryan/AppData/Roaming/Python/Python310/site-packages/pandas/core/indexing.py?line=1371'>1372</a>\u001b[0m     \u001b[39mif\u001b[39;00m use_interval_msg:\n\u001b[0;32m   <a href='file:///c%3A/Users/Ryan/AppData/Roaming/Python/Python310/site-packages/pandas/core/indexing.py?line=1372'>1373</a>\u001b[0m         key \u001b[39m=\u001b[39m \u001b[39mlist\u001b[39m(key)\n\u001b[1;32m-> <a href='file:///c%3A/Users/Ryan/AppData/Roaming/Python/Python310/site-packages/pandas/core/indexing.py?line=1373'>1374</a>\u001b[0m     \u001b[39mraise\u001b[39;00m \u001b[39mKeyError\u001b[39;00m(\u001b[39mf\u001b[39m\u001b[39m\"\u001b[39m\u001b[39mNone of [\u001b[39m\u001b[39m{\u001b[39;00mkey\u001b[39m}\u001b[39;00m\u001b[39m] are in the [\u001b[39m\u001b[39m{\u001b[39;00maxis_name\u001b[39m}\u001b[39;00m\u001b[39m]\u001b[39m\u001b[39m\"\u001b[39m)\n\u001b[0;32m   <a href='file:///c%3A/Users/Ryan/AppData/Roaming/Python/Python310/site-packages/pandas/core/indexing.py?line=1375'>1376</a>\u001b[0m not_found \u001b[39m=\u001b[39m \u001b[39mlist\u001b[39m(ensure_index(key)[missing_mask\u001b[39m.\u001b[39mnonzero()[\u001b[39m0\u001b[39m]]\u001b[39m.\u001b[39munique())\n\u001b[0;32m   <a href='file:///c%3A/Users/Ryan/AppData/Roaming/Python/Python310/site-packages/pandas/core/indexing.py?line=1376'>1377</a>\u001b[0m \u001b[39mraise\u001b[39;00m \u001b[39mKeyError\u001b[39;00m(\u001b[39mf\u001b[39m\u001b[39m\"\u001b[39m\u001b[39m{\u001b[39;00mnot_found\u001b[39m}\u001b[39;00m\u001b[39m not in index\u001b[39m\u001b[39m\"\u001b[39m)\n",
      "\u001b[1;31mKeyError\u001b[0m: \"None of [Float64Index([22.0, 38.0, 26.0, 35.0, 35.0,  nan, 54.0,  2.0, 27.0, 14.0,\\n              ...\\n              33.0, 22.0, 28.0, 25.0, 39.0, 27.0, 19.0,  nan, 26.0, 32.0],\\n             dtype='float64', length=891)] are in the [columns]\""
     ]
    }
   ],
   "source": [
    "import pandas as pd\n",
    "\n",
    "titanic = pd.read_csv(\"../data/titanic.csv\")\n",
    "\n",
    "titanic[titanic[\"Age\"]] > \"35\""
   ]
  }
 ],
 "metadata": {
  "interpreter": {
   "hash": "98e49e2706393c23b19db0a25d5cf452f5af81b91cd76568b98cc09fa1b74c90"
  },
  "kernelspec": {
   "display_name": "Python 3.10.1 64-bit",
   "language": "python",
   "name": "python3"
  },
  "language_info": {
   "codemirror_mode": {
    "name": "ipython",
    "version": 3
   },
   "file_extension": ".py",
   "mimetype": "text/x-python",
   "name": "python",
   "nbconvert_exporter": "python",
   "pygments_lexer": "ipython3",
   "version": "3.10.1"
  },
  "orig_nbformat": 4
 },
 "nbformat": 4,
 "nbformat_minor": 2
}
